{
 "cells": [
  {
   "cell_type": "markdown",
   "id": "7788052b",
   "metadata": {},
   "source": [
    "# Process flow:"
   ]
  },
  {
   "cell_type": "code",
   "execution_count": null,
   "id": "99961d71",
   "metadata": {},
   "outputs": [],
   "source": [
    "# Step_1----> import the nltk library.\n",
    "\n",
    "# Step_2-----> Perform Tokenization.\n",
    "\n",
    "# Step_3-----> Perform stemming and lemmatization.\n",
    "\n",
    "# Step_4-----> Remove stopwards.\n",
    "\n",
    "# Step_5-----> Perform Named Entity Recognition.\n",
    "\n",
    "\n",
    "# these five steps are common to extract the results through the datasets.\n"
   ]
  },
  {
   "cell_type": "code",
   "execution_count": null,
   "id": "674b311c",
   "metadata": {},
   "outputs": [],
   "source": []
  }
 ],
 "metadata": {
  "kernelspec": {
   "display_name": "Python 3 (ipykernel)",
   "language": "python",
   "name": "python3"
  },
  "language_info": {
   "codemirror_mode": {
    "name": "ipython",
    "version": 3
   },
   "file_extension": ".py",
   "mimetype": "text/x-python",
   "name": "python",
   "nbconvert_exporter": "python",
   "pygments_lexer": "ipython3",
   "version": "3.9.12"
  }
 },
 "nbformat": 4,
 "nbformat_minor": 5
}
